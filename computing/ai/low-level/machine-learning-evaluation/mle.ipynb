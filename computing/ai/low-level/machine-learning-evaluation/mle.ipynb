{
 "cells": [
  {
   "cell_type": "markdown",
   "id": "57602cf1",
   "metadata": {},
   "source": [
    "<center><h1>Machine Learning Evaluation Metrics</h1></center>\n",
    "<center><i>Part of the Knowledge Journal Project</i></center>\n",
    "\n",
    "---\n",
    "\n",
    "**Author:** Augusto Damasceno  \n",
    "**Project Link:** [github.com/augustodamasceno/knowledge-journal](https://github.com/augustodamasceno/knowledge-journal)  \n",
    "**Last Updated:** August 19, 2025\n",
    "\n",
    "---\n",
    "<div style=\"text-align: right;\">\n",
    "<small>Copyright © 2022-2025, Augusto Damasceno</small><br>\n",
    "<small>SPDX-License-Identifier: <code>BSD-2-Clause</code></small>\n",
    "</div>"
   ]
  },
  {
   "cell_type": "markdown",
   "id": "9c4f93d6",
   "metadata": {},
   "source": [
    "## Libraries"
   ]
  },
  {
   "cell_type": "code",
   "execution_count": 1,
   "id": "5d598a67",
   "metadata": {},
   "outputs": [],
   "source": [
    "# Numpy\n",
    "import numpy as np \n",
    "# Pyplot is a state-based interface to matplotlib. It provides a MATLAB-like way of plotting.\n",
    "import matplotlib.pyplot as plt\n",
    "# Display plots that are the output of running code cells  \n",
    "%matplotlib inline\n",
    "# Pandas\n",
    "import pandas as pd\n",
    "# Train and Test Subsets\n",
    "from sklearn.model_selection import train_test_split\n",
    "# Breast Cancer Wisconsin Dataset from Scikit-Learn Toy datasets\n",
    "from sklearn.datasets import load_breast_cancer\n",
    "# MLP Classifier\n",
    "from sklearn.neural_network import MLPClassifier\n",
    "# Accuracy Metric\n",
    "from sklearn.metrics import accuracy_score\n",
    "# Precision Metric\n",
    "from sklearn.metrics import precision_score\n",
    "# Recall Metric\n",
    "from sklearn.metrics import recall_score\n",
    "# F1 Metric\n",
    "from sklearn.metrics import f1_score\n",
    "# Confusion Matrix\n",
    "from sklearn.metrics import confusion_matrix\n",
    "from sklearn.metrics import ConfusionMatrixDisplay\n",
    "# Cross-validation Metric\n",
    "from sklearn.model_selection import cross_val_score"
   ]
  },
  {
   "cell_type": "markdown",
   "id": "c9aafc0e",
   "metadata": {},
   "source": [
    "## Breast Cancer Wisconsin Dataset \n",
    "\n",
    "![](img/the-dataset.png)"
   ]
  },
  {
   "cell_type": "code",
   "execution_count": 2,
   "id": "4ad14817",
   "metadata": {},
   "outputs": [],
   "source": [
    "data = load_breast_cancer()"
   ]
  },
  {
   "cell_type": "code",
   "execution_count": 3,
   "id": "db0a9cea",
   "metadata": {},
   "outputs": [],
   "source": [
    "# X = data.data\n",
    "# y = data.target\n",
    "X, y = load_breast_cancer(return_X_y=True)"
   ]
  },
  {
   "cell_type": "code",
   "execution_count": 4,
   "id": "73e34cda",
   "metadata": {},
   "outputs": [
    {
     "name": "stdout",
     "output_type": "stream",
     "text": [
      "Features:\n",
      "\n",
      "\t mean radius\n",
      "\t mean texture\n",
      "\t mean perimeter\n",
      "\t mean area\n",
      "\t mean smoothness\n",
      "\t mean compactness\n",
      "\t mean concavity\n",
      "\t mean concave points\n",
      "\t mean symmetry\n",
      "\t mean fractal dimension\n",
      "\t radius error\n",
      "\t texture error\n",
      "\t perimeter error\n",
      "\t area error\n",
      "\t smoothness error\n",
      "\t compactness error\n",
      "\t concavity error\n",
      "\t concave points error\n",
      "\t symmetry error\n",
      "\t fractal dimension error\n",
      "\t worst radius\n",
      "\t worst texture\n",
      "\t worst perimeter\n",
      "\t worst area\n",
      "\t worst smoothness\n",
      "\t worst compactness\n",
      "\t worst concavity\n",
      "\t worst concave points\n",
      "\t worst symmetry\n",
      "\t worst fractal dimension\n"
     ]
    }
   ],
   "source": [
    "print('Features:\\n')\n",
    "for feature in data.feature_names:\n",
    "    print('\\t', feature)"
   ]
  },
  {
   "cell_type": "code",
   "execution_count": 5,
   "id": "77d34713",
   "metadata": {},
   "outputs": [
    {
     "name": "stdout",
     "output_type": "stream",
     "text": [
      "Targets:\n",
      "\t ['malignant' 'benign']\n"
     ]
    }
   ],
   "source": [
    "print('Targets:\\n\\t', data.target_names)"
   ]
  },
  {
   "cell_type": "code",
   "execution_count": 6,
   "id": "fb5c7932",
   "metadata": {},
   "outputs": [],
   "source": [
    "# print(data.DESCR)"
   ]
  },
  {
   "cell_type": "markdown",
   "id": "31af8f31",
   "metadata": {},
   "source": [
    "## Training and Test Subsets"
   ]
  },
  {
   "cell_type": "code",
   "execution_count": 7,
   "id": "226b20f8",
   "metadata": {},
   "outputs": [],
   "source": [
    "X_train, X_test, y_train, y_test = train_test_split(X, y, test_size=0.3,shuffle=True, random_state=None)"
   ]
  },
  {
   "cell_type": "code",
   "execution_count": 8,
   "id": "ff45bb09",
   "metadata": {},
   "outputs": [
    {
     "data": {
      "text/plain": [
       "(398, 30)"
      ]
     },
     "execution_count": 8,
     "metadata": {},
     "output_type": "execute_result"
    }
   ],
   "source": [
    "X_train.shape"
   ]
  },
  {
   "cell_type": "code",
   "execution_count": 9,
   "id": "7e3ccff4",
   "metadata": {},
   "outputs": [
    {
     "data": {
      "text/plain": [
       "(171, 30)"
      ]
     },
     "execution_count": 9,
     "metadata": {},
     "output_type": "execute_result"
    }
   ],
   "source": [
    "X_test.shape"
   ]
  },
  {
   "cell_type": "code",
   "execution_count": 10,
   "id": "1650e5b9",
   "metadata": {},
   "outputs": [
    {
     "data": {
      "text/plain": [
       "(398,)"
      ]
     },
     "execution_count": 10,
     "metadata": {},
     "output_type": "execute_result"
    }
   ],
   "source": [
    "y_train.shape"
   ]
  },
  {
   "cell_type": "code",
   "execution_count": 11,
   "id": "926550bc",
   "metadata": {},
   "outputs": [
    {
     "data": {
      "text/plain": [
       "(171,)"
      ]
     },
     "execution_count": 11,
     "metadata": {},
     "output_type": "execute_result"
    }
   ],
   "source": [
    "y_test.shape"
   ]
  },
  {
   "cell_type": "markdown",
   "id": "7616662e",
   "metadata": {},
   "source": [
    "## Model Training"
   ]
  },
  {
   "cell_type": "code",
   "execution_count": 12,
   "id": "c96f1b82",
   "metadata": {},
   "outputs": [],
   "source": [
    "clf = MLPClassifier(random_state=None, max_iter=50*X_train.shape[0]).fit(X_train, y_train)"
   ]
  },
  {
   "cell_type": "markdown",
   "id": "87cb725f",
   "metadata": {},
   "source": [
    "## Model Prediction"
   ]
  },
  {
   "cell_type": "code",
   "execution_count": 13,
   "id": "473366b4",
   "metadata": {},
   "outputs": [],
   "source": [
    "y_pred = clf.predict(X_test)"
   ]
  },
  {
   "cell_type": "markdown",
   "id": "32002e16",
   "metadata": {},
   "source": [
    "## Model Evaluation with Accuracy\n",
    "## \"All correct predictions\"  \n",
    "\n",
    "\n",
    "$\\Large\\frac{TP+TN}{TP+FP+TN+FN}$"
   ]
  },
  {
   "cell_type": "code",
   "execution_count": 14,
   "id": "c062e7a6",
   "metadata": {},
   "outputs": [
    {
     "data": {
      "text/plain": [
       "0.9064327485380117"
      ]
     },
     "execution_count": 14,
     "metadata": {},
     "output_type": "execute_result"
    }
   ],
   "source": [
    "accuracy_score(y_test, y_pred)"
   ]
  },
  {
   "cell_type": "markdown",
   "id": "55c3d89f",
   "metadata": {},
   "source": [
    "## Model Evaluation with Precision\n",
    "## \"It's really true when it says so.\"  \n",
    "\n",
    "\n",
    "$\\Large\\frac{TP}{TP+FP}$"
   ]
  },
  {
   "cell_type": "code",
   "execution_count": 15,
   "id": "5b7091a8",
   "metadata": {},
   "outputs": [
    {
     "data": {
      "text/plain": [
       "0.9405940594059405"
      ]
     },
     "execution_count": 15,
     "metadata": {},
     "output_type": "execute_result"
    }
   ],
   "source": [
    "precision_score(y_test, y_pred, average='binary')"
   ]
  },
  {
   "cell_type": "markdown",
   "id": "ca18323d",
   "metadata": {},
   "source": [
    "## Model Evaluation with Recall\n",
    "## \"How much predicts positive compare to all real positives.\"  \n",
    "\n",
    "\n",
    "$\\Large\\frac{TP}{TP+FN}$"
   ]
  },
  {
   "cell_type": "code",
   "execution_count": 16,
   "id": "b0cc22d8",
   "metadata": {},
   "outputs": [
    {
     "data": {
      "text/plain": [
       "0.9047619047619048"
      ]
     },
     "execution_count": 16,
     "metadata": {},
     "output_type": "execute_result"
    }
   ],
   "source": [
    "recall_score(y_test, y_pred, average='binary')"
   ]
  },
  {
   "cell_type": "markdown",
   "id": "51263963",
   "metadata": {},
   "source": [
    "## Model Evaluation with Specificity\n",
    "## \"How much predicts negative compare to all real negatives.\"   \n",
    "\n",
    "\n",
    "$\\Large\\frac{TN}{TN+FP}$"
   ]
  },
  {
   "cell_type": "code",
   "execution_count": 17,
   "id": "019505f9",
   "metadata": {},
   "outputs": [
    {
     "data": {
      "text/plain": [
       "np.float64(0.9090909090909091)"
      ]
     },
     "execution_count": 17,
     "metadata": {},
     "output_type": "execute_result"
    }
   ],
   "source": [
    "tn, fp, fn, tp = confusion_matrix(y_test, y_pred).ravel()\n",
    "specificity = tn / (tn+fp)\n",
    "specificity"
   ]
  },
  {
   "cell_type": "markdown",
   "id": "3f0926dd",
   "metadata": {},
   "source": [
    "## Model Evaluation with F1\n",
    "## \"Harmonic mean of precision and recall.\"   \n",
    "\n",
    "\n",
    "$\\Large\\frac{2\\cdot Precision \\cdot Recall}{Precision + Recall}$"
   ]
  },
  {
   "cell_type": "code",
   "execution_count": 18,
   "id": "e358d8f2",
   "metadata": {},
   "outputs": [
    {
     "data": {
      "text/plain": [
       "0.9223300970873787"
      ]
     },
     "execution_count": 18,
     "metadata": {},
     "output_type": "execute_result"
    }
   ],
   "source": [
    "f1_score(y_test, y_pred, average='binary')"
   ]
  },
  {
   "cell_type": "markdown",
   "id": "d29b7062",
   "metadata": {},
   "source": [
    "## Model Evaluation with Confusion Matrix"
   ]
  },
  {
   "cell_type": "code",
   "execution_count": 19,
   "id": "457b74f9",
   "metadata": {},
   "outputs": [
    {
     "name": "stdout",
     "output_type": "stream",
     "text": [
      "tn=60\n",
      "fp=6\n",
      "fn=10\n",
      "tp=95\n",
      "\n",
      "Confusion matrix, without normalization\n",
      "[[60  6]\n",
      " [10 95]]\n",
      "tn=60\n",
      "fp=6\n",
      "fn=10\n",
      "tp=95\n",
      "\n",
      "Normalized confusion matrix\n",
      "[[0.91 0.09]\n",
      " [0.1  0.9 ]]\n"
     ]
    },
    {
     "data": {
      "image/png": "[encoded data removed]",
      "text/plain": [
       "<Figure size 640x480 with 2 Axes>"
      ]
     },
     "metadata": {},
     "output_type": "display_data"
    },
    {
     "data": {
      "image/png": "[encoded data removed]",
      "text/plain": [
       "<Figure size 640x480 with 2 Axes>"
      ]
     },
     "metadata": {},
     "output_type": "display_data"
    }
   ],
   "source": [
    "# Code from this cell in reference 15.\n",
    "\n",
    "np.set_printoptions(precision=2)\n",
    "class_names = data.target_names\n",
    "\n",
    "titles_options = [\n",
    "    (\"Confusion matrix, without normalization\", None),\n",
    "    (\"Normalized confusion matrix\", \"true\"),\n",
    "]\n",
    "for title, normalize in titles_options:\n",
    "    disp = ConfusionMatrixDisplay.from_estimator(\n",
    "        clf,\n",
    "        X_test,\n",
    "        y_test,\n",
    "        display_labels=class_names,\n",
    "        cmap=plt.cm.Blues,\n",
    "        normalize=normalize,\n",
    "    )\n",
    "    disp.ax_.set_title(title)\n",
    "\n",
    "    tn, fp, fn, tp = confusion_matrix(y_test, y_pred).ravel()\n",
    "    print(\"tn={}\\nfp={}\\nfn={}\\ntp={}\\n\".format(tn, fp, fn, tp))\n",
    "    print(title)\n",
    "    print(disp.confusion_matrix)\n",
    "\n",
    "plt.show()"
   ]
  },
  {
   "cell_type": "markdown",
   "id": "a78d0ad2",
   "metadata": {},
   "source": [
    "## Model Evaluation with Cross-validation\n",
    "\n",
    "![](img/cross-validation.jpg)"
   ]
  },
  {
   "cell_type": "code",
   "execution_count": 20,
   "id": "3b972a3d",
   "metadata": {},
   "outputs": [
    {
     "data": {
      "text/plain": [
       "array([0.92, 0.93, 0.89, 0.93, 0.94])"
      ]
     },
     "execution_count": 20,
     "metadata": {},
     "output_type": "execute_result"
    }
   ],
   "source": [
    "scores = cross_val_score(clf, X, y, cv=5)\n",
    "scores"
   ]
  },
  {
   "cell_type": "code",
   "execution_count": 21,
   "id": "8e0e904d",
   "metadata": {},
   "outputs": [
    {
     "data": {
      "text/plain": [
       "np.float64(0.92094395280236)"
      ]
     },
     "execution_count": 21,
     "metadata": {},
     "output_type": "execute_result"
    }
   ],
   "source": [
    "np.mean(scores)"
   ]
  },
  {
   "cell_type": "code",
   "execution_count": 22,
   "id": "bf4c2c4f",
   "metadata": {},
   "outputs": [
    {
     "data": {
      "text/plain": [
       "np.float64(0.018297531703108907)"
      ]
     },
     "execution_count": 22,
     "metadata": {},
     "output_type": "execute_result"
    }
   ],
   "source": [
    "np.std(scores)"
   ]
  },
  {
   "cell_type": "markdown",
   "id": "d1b8cfa0",
   "metadata": {},
   "source": [
    "# References\n",
    "\n",
    "*  1. [Python DOC](https://docs.python.org/3/)  \n",
    "*  2. [Numpy DOC](https://numpy.org/doc/1.18/reference/index.html)\n",
    "*  3. [matplotlib.pyplot](https://matplotlib.org/api/_as_gen/matplotlib.pyplot.html#module-matplotlib.pyplot)\n",
    "*  4. [ipython magic functions](https://ipython.readthedocs.io/en/stable/interactive/tutorial.html#magics-explained)\n",
    "*  5. [Pandas DOC](https://pandas.pydata.org/docs/reference/index.html)\n",
    "*  6. [Breast Cancer Wisconsin Dataset](https://scikit-learn.org/stable/datasets/toy_dataset.html#breast-cancer-dataset)\n",
    "*  7. [sklearn.model_selection.train_test_split](https://scikit-learn.org/stable/modules/generated/sklearn.model_selection.train_test_split.html#sklearn.model_selection.train_test_spli)\n",
    "*  8. [sklearn.neural_network.MLPClassifier](https://scikit-learn.org/stable/modules/generated/sklearn.neural_network.MLPClassifier.html)\n",
    "*  9. [sklearn.metrics.accuracy_score](https://scikit-learn.org/stable/modules/generated/sklearn.metrics.accuracy_score.html)\n",
    "* 10. [sklearn.metrics.precision_score](https://scikit-learn.org/stable/modules/generated/sklearn.metrics.precision_score.html)\n",
    "* 11. [sklearn.metrics.recall_score](https://scikit-learn.org/stable/modules/generated/sklearn.metrics.recall_score.html)\n",
    "* 12. [sklearn.metrics.f1_score](https://scikit-learn.org/stable/modules/generated/sklearn.metrics.f1_score.html)\n",
    "* 13. [Harmonic Mean](https://mathworld.wolfram.com/HarmonicMean.html)\n",
    "* 14. [sklearn.metrics.confusion_matrix](https://scikit-learn.org/stable/modules/generated/sklearn.metrics.confusion_matrix.html)\n",
    "* 15. [https://scikit-learn.org/stable/auto_examples/model_selection/plot_confusion_matrix.html](https://scikit-learn.org/stable/auto_examples/model_selection/plot_confusion_matrix.html)\n",
    "* 16. [Cross-validation](https://scikit-learn.org/stable/modules/cross_validation.html)"
   ]
  }
 ],
 "metadata": {
  "kernelspec": {
   "display_name": "Python 3 (ipykernel)",
   "language": "python",
   "name": "python3"
  },
  "language_info": {
   "codemirror_mode": {
    "name": "ipython",
    "version": 3
   },
   "file_extension": ".py",
   "mimetype": "text/x-python",
   "name": "python",
   "nbconvert_exporter": "python",
   "pygments_lexer": "ipython3",
   "version": "3.13.5"
  }
 },
 "nbformat": 4,
 "nbformat_minor": 5
}
