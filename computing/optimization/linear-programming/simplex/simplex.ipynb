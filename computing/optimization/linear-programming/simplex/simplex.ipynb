{
 "cells": [
  {
   "cell_type": "markdown",
   "id": "49d20fa1-a567-436b-938b-d1711aa65fc6",
   "metadata": {},
   "source": [
    "<center><h1>Simplex</h1></center>\n",
    "<center><i>Part of the Knowledge Journal Project</i></center>\n",
    "\n",
    "---\n",
    "\n",
    "**Author:** Augusto Damasceno  \n",
    "**Project Link:** [github.com/augustodamasceno/knowledge-journal](https://github.com/augustodamasceno/knowledge-journal)  \n",
    "**Last Updated:** September 10, 2025\n",
    "\n",
    "---\n",
    "<div style=\"text-align: right;\">\n",
    "<small>Copyright © 2025, Augusto Damasceno</small><br>\n",
    "<small>SPDX-License-Identifier: <code>BSD-2-Clause</code></small>\n",
    "</div>"
   ]
  },
  {
   "cell_type": "markdown",
   "id": "174118a8-589f-4092-baf7-115d0a0bba86",
   "metadata": {},
   "source": [
    "# Libraries"
   ]
  },
  {
   "cell_type": "code",
   "execution_count": 1,
   "id": "c6c838d6-ceee-4211-baf9-e37ba279604b",
   "metadata": {},
   "outputs": [],
   "source": [
    "from scipy.optimize import linprog\n",
    "from IPython.display import YouTubeVideo"
   ]
  },
  {
   "cell_type": "markdown",
   "id": "7a187bc4-35f0-4300-b9ca-0d33ce9bf74e",
   "metadata": {},
   "source": [
    "# Problem 1 - Solving with [linprog[2]](https://docs.scipy.org/doc/scipy/reference/generated/scipy.optimize.linprog.html)\n",
    "> The linprog uses by default HiGHS solvers, but you can use to verify the solution.  \n",
    "> The simplex is a legacy and deprecated method in linprog and will be removed in SciPy 1.11.0."
   ]
  },
  {
   "cell_type": "markdown",
   "id": "6bf7dcb5-83b9-4e4a-ae5f-39611f4a4b36",
   "metadata": {},
   "source": [
    "$$\n",
    "\\begin{aligned}\n",
    "& \\text{Maximize:} \\quad & Z = 7x_1 + 9x_2 \\\\\n",
    "& \\text{subject to:} \\quad & x_1 - x_2 &\\ge -2 \\\\\n",
    "& & \\quad 3x_1 + 5x_2 &\\ge 15 \\\\\n",
    "& & \\quad 5x_1 + 4x_2 &\\ge 20 \\\\\n",
    "& & \\quad x_1, x_2 &\\ge 0\n",
    "\\end{aligned}\n",
    "$$"
   ]
  },
  {
   "cell_type": "markdown",
   "id": "9e0b03b3-8485-4a4d-b5d2-026937473bda",
   "metadata": {},
   "source": [
    "## Linear Programing Format"
   ]
  },
  {
   "cell_type": "markdown",
   "id": "36c5cfe3-eab0-4316-96a4-d502759382a0",
   "metadata": {},
   "source": [
    "$$\n",
    "\\begin{aligned}\n",
    "& \\text{Maximize:} \\quad & Z - 7x_1 - 9x_2 = 0 \\\\\n",
    "& \\text{subject to:} \\quad & x_1 - x_2  + x_3& = -2 \\\\\n",
    "& & \\quad 3x_1 + 5x_2 + x_4 & = 15 \\\\\n",
    "& & \\quad 5x_1 + 4x_2 + x_5 & = 20 \\\\\n",
    "& & \\quad x_1 + x_6 & = 0\\\\\n",
    "& & \\quad x_2 + x_7 & = 0\\\\\n",
    "\\end{aligned}\n",
    "$$\n",
    "\n",
    "OR\n",
    "\n",
    "$$\n",
    "\\begin{aligned}\n",
    "& \\text{Minimize:} \\quad & Z + 7x_1 + 9x_2 = 0 \\\\\n",
    "& \\text{subject to:} \\quad & - x_1 + x_2 - x_3& = 2 \\\\\n",
    "& & \\quad -3x_1 - 5x_2 - x_4 & = -15 \\\\\n",
    "& & \\quad -5x_1 - 4x_2 - x_5 & = -20 \\\\\n",
    "& & \\quad -x_1 - x_6 = 0\\\\\n",
    "& & \\quad -x_2 - x_7 = 0\\\\\n",
    "\\end{aligned}\n",
    "$$"
   ]
  },
  {
   "cell_type": "code",
   "execution_count": 2,
   "id": "3a422f7a-e546-496e-afc6-69f09a871dec",
   "metadata": {},
   "outputs": [
    {
     "name": "stdout",
     "output_type": "stream",
     "text": [
      "The solver did not find an optimal solution.\n",
      "Status: The problem is unbounded. (HiGHS Status 10: model_status is Unbounded; primal_status is Feasible)\n"
     ]
    }
   ],
   "source": [
    "c = [-7, -9]\n",
    "A_ub = [\n",
    "    [-1,  1],  \n",
    "    [-3, -5],  \n",
    "    [-5, -4]  \n",
    "]\n",
    "b_ub = [2, -15, -20] # RHS\n",
    "x1_bounds = (0, None)\n",
    "x2_bounds = (0, None)\n",
    "\n",
    "result = linprog(c=c, A_ub=A_ub, b_ub=b_ub, bounds=[x1_bounds, x2_bounds], method='highs')\n",
    "if result.success:\n",
    "    optimal_x1 = result.x[0]\n",
    "    optimal_x2 = result.x[1]\n",
    "\n",
    "    max_Z = result.fun\n",
    "    print(f\"Status: {result.message}\")\n",
    "    print(\"\\nOptimal Variable Values:\")\n",
    "    print(f\"  x1 = {optimal_x1:.4f}\")\n",
    "    print(f\"  x2 = {optimal_x2:.4f}\")\n",
    "    print(\"\\nMaximum Value of the Objective Function:\")\n",
    "    print(f\"  Z = {max_Z:.4f}\")\n",
    "else:\n",
    "    print(\"The solver did not find an optimal solution.\")\n",
    "    print(f\"Status: {result.message}\")"
   ]
  },
  {
   "cell_type": "markdown",
   "id": "d98322d4-c996-4360-832a-1d1a61ee7015",
   "metadata": {},
   "source": [
    "## From Online Solver [3-4]\n",
    "> Load File [problem1.txt](problem1.txt) at [[3]](https://otimizacao.js.org/simplex.html)\n",
    ">\n",
    "<img src='problem1_A.png'>\n",
    "<img src='problem1_B.png'>\n",
    "<img src='problem1_C.png'>\n",
    "<img src='problem1_D.png'>"
   ]
  },
  {
   "cell_type": "markdown",
   "id": "f9c00cc3-bc72-4eed-b50c-64ce7dd16877",
   "metadata": {},
   "source": [
    "# [Problem 2[5]](https://www.youtube.com/embed/w047PccELc4?si=rC3U8nT-34l2wHxk)"
   ]
  },
  {
   "cell_type": "code",
   "execution_count": 3,
   "id": "76f6ba70-012d-4478-8340-fcc81e379b52",
   "metadata": {},
   "outputs": [
    {
     "data": {
      "image/jpeg": "[encoded data removed]",
      "text/html": [
       "\n",
       "        <iframe\n",
       "            width=\"800\"\n",
       "            height=\"450\"\n",
       "            src=\"https://www.youtube.com/embed/w047PccELc4\"\n",
       "            frameborder=\"0\"\n",
       "            allowfullscreen\n",
       "            \n",
       "        ></iframe>\n",
       "        "
      ],
      "text/plain": [
       "<IPython.lib.display.YouTubeVideo at 0x22e8b008830>"
      ]
     },
     "metadata": {},
     "output_type": "display_data"
    }
   ],
   "source": [
    "display(YouTubeVideo('w047PccELc4', width=800, height=450))"
   ]
  },
  {
   "cell_type": "markdown",
   "id": "81934d84-f7c5-4a74-9222-47f2fb36f2c6",
   "metadata": {},
   "source": [
    "# [Problem 3 [6]](https://www.youtube.com/watch?v=-lErxjdIzEk)"
   ]
  },
  {
   "cell_type": "code",
   "execution_count": 4,
   "id": "08cade2c-0e2a-4d66-afb0-120018d9324d",
   "metadata": {},
   "outputs": [
    {
     "data": {
      "image/jpeg": "[encoded data removed]",
      "text/html": [
       "\n",
       "        <iframe\n",
       "            width=\"800\"\n",
       "            height=\"450\"\n",
       "            src=\"https://www.youtube.com/embed/-lErxjdIzEk\"\n",
       "            frameborder=\"0\"\n",
       "            allowfullscreen\n",
       "            \n",
       "        ></iframe>\n",
       "        "
      ],
      "text/plain": [
       "<IPython.lib.display.YouTubeVideo at 0x22eb8c5b890>"
      ]
     },
     "metadata": {},
     "output_type": "display_data"
    }
   ],
   "source": [
    "display(YouTubeVideo('-lErxjdIzEk', width=800, height=450))"
   ]
  },
  {
   "cell_type": "markdown",
   "id": "f2a06f21-3080-424b-9857-5a3ed30faac1",
   "metadata": {},
   "source": [
    "# [Problem 4[7]](https://www.youtube.com/watch?v=NOgZapdv5mM)"
   ]
  },
  {
   "cell_type": "code",
   "execution_count": 5,
   "id": "b5ffa43e-f745-43fc-a7e9-6bce65214f2d",
   "metadata": {},
   "outputs": [
    {
     "data": {
      "image/jpeg": "[encoded data removed]",
      "text/html": [
       "\n",
       "        <iframe\n",
       "            width=\"800\"\n",
       "            height=\"450\"\n",
       "            src=\"https://www.youtube.com/embed/NOgZapdv5mM\"\n",
       "            frameborder=\"0\"\n",
       "            allowfullscreen\n",
       "            \n",
       "        ></iframe>\n",
       "        "
      ],
      "text/plain": [
       "<IPython.lib.display.YouTubeVideo at 0x22eb8c5bb10>"
      ]
     },
     "metadata": {},
     "output_type": "display_data"
    }
   ],
   "source": [
    "display(YouTubeVideo('NOgZapdv5mM', width=800, height=450))"
   ]
  },
  {
   "cell_type": "markdown",
   "id": "c9eef274-3d44-4baa-b6ee-3233eb8ea491",
   "metadata": {},
   "source": [
    "# References\n",
    "\n",
    "1. P. Virtanen et al., \"SciPy 1.0: Fundamental Algorithms for Scientific Computing in Python,\" Nature Methods, vol. 17, pp. 261–272, 2020. doi: 10.1038/s41592-019-0686-2.  \n",
    "2. SciPy Developers, \"scipy.optimize.linprog,\" SciPy Manual. [Online]. Available: https://docs.scipy.org/doc/scipy/reference/generated/scipy.optimize.linprog.html. Accessed: Sep. 10, 2025.\n",
    "3. CEFET-MG Campus Timóteo, \"Método Simplex,\" Otimização. [Online]. Available: https://otimizacao.js.org/simplex.html. [Accessed: Sep. 9, 2025].\n",
    "4. jmmccota, Otimizacao. GitHub, 2018. [Online]. Available: https://github.com/jmmccota/Otimizacao. [Accessed: Sep. 9, 2025].\n",
    "5. Douglas Goios,  Método Simplex: Passo a passo. YouTube. [Online]. Available: https://www.youtube.com/watch?v=w047PccELc4. [Accessed: Sep. 9, 2025].\n",
    "6. Rogério César. Pesquisa Operacional - Aula 7 - Método Simplex na Minimização. YouTube. [Online]. Available: https://www.youtube.com/watch?v=-lErxjdIzEk.  [Accessed: Sep. 9, 2025].\n",
    "7. Rogério César. Pesquisa Operacional - Aula 9 - Simplex: M grande quando há restrições de igual. YouTube. [Online]. Available: https://www.youtube.com/watch?v=NOgZapdv5mM.  [Accessed: Sep. 10, 2025]."
   ]
  }
 ],
 "metadata": {
  "kernelspec": {
   "display_name": "Python 3 (ipykernel)",
   "language": "python",
   "name": "python3"
  },
  "language_info": {
   "codemirror_mode": {
    "name": "ipython",
    "version": 3
   },
   "file_extension": ".py",
   "mimetype": "text/x-python",
   "name": "python",
   "nbconvert_exporter": "python",
   "pygments_lexer": "ipython3",
   "version": "3.13.5"
  }
 },
 "nbformat": 4,
 "nbformat_minor": 5
}
